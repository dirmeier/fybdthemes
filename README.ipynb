{
 "cells": [
  {
   "cell_type": "markdown",
   "source": [
    "# fybdthemes\n",
    "\n",
    "[![Project Status](http://www.repostatus.org/badges/latest/concept.svg)](http://www.repostatus.org/#concept)\n",
    "[![ci](https://github.com/dirmeier/fybdthemes/workflows/ci/badge.svg)](https://github.com/dirmeier/fybdthemes/actions?query=workflow%3Aci)\n",
    "[![version](https://img.shields.io/pypi/v/fybdthemes.svg?colorB=black&style=flat)](https://pypi.org/project/fybdthemes/)"
   ],
   "metadata": {
    "collapsed": false,
    "pycharm": {
     "name": "#%% md\n"
    }
   }
  },
  {
   "cell_type": "markdown",
   "source": [
    "## About \n",
    " \n",
    "This package contains some of my color palettes for usage in Python. One can choose between qualitative, diverging and sequential color palettes depending on the type of variable to be visualized "
   ],
   "metadata": {
    "collapsed": false,
    "pycharm": {
     "name": "#%% md\n"
    }
   }
  },
  {
   "cell_type": "markdown",
   "source": [
    "## Installation\n",
    "\n",
    "To install from PyPI:\n",
    "\n",
    "```bash\n",
    "pip install fybdthemes\n",
    "```\n",
    "\n",
    "To install the latest GitHub <RELEASE>, just call the following on the command line:\n",
    "\n",
    "```bash\n",
    "pip install git+https://github.com/dirmeier/fybdthemes@<RELEASE>\n",
    "```"
   ],
   "metadata": {
    "collapsed": false,
    "pycharm": {
     "name": "#%% md\n"
    }
   }
  },
  {
   "cell_type": "markdown",
   "source": [
    "## Usage"
   ],
   "metadata": {
    "collapsed": false,
    "pycharm": {
     "name": "#%% md\n"
    }
   }
  },
  {
   "cell_type": "markdown",
   "source": [
    "`fybdthemes` works with both `matplotlib` or `seaborn`. You can either manually specify colors or provide matplotlib color maps. Below, we briefly demonstrate how to use the package."
   ],
   "metadata": {
    "collapsed": false,
    "pycharm": {
     "name": "#%% md\n"
    }
   }
  },
  {
   "cell_type": "code",
   "execution_count": null,
   "outputs": [],
   "source": [
    "import numpy as np\n",
    "import numpy.random\n",
    "\n",
    "%matplotlib inline\n",
    "import matplotlib.pyplot as plt\n",
    "import seaborn as sns\n",
    "\n",
    "import fybdthemes\n",
    "from fybdthemes.plot import plot_palette"
   ],
   "metadata": {
    "collapsed": false,
    "pycharm": {
     "name": "#%%\n"
    }
   }
  },
  {
   "cell_type": "markdown",
   "source": [
    "Set a custom theme for matplotlib:"
   ],
   "metadata": {
    "collapsed": false,
    "pycharm": {
     "name": "#%% md\n"
    }
   }
  },
  {
   "cell_type": "code",
   "execution_count": null,
   "outputs": [],
   "source": [
    "fybdthemes.set_theme()"
   ],
   "metadata": {
    "collapsed": false,
    "pycharm": {
     "name": "#%%\n"
    }
   }
  },
  {
   "cell_type": "markdown",
   "source": [
    "For visualization we use the well-known diamonds data:"
   ],
   "metadata": {
    "collapsed": false,
    "pycharm": {
     "name": "#%% md\n"
    }
   }
  },
  {
   "cell_type": "code",
   "execution_count": null,
   "outputs": [],
   "source": [
    "diamonds = sns.load_dataset(\"diamonds\")"
   ],
   "metadata": {
    "collapsed": false,
    "pycharm": {
     "name": "#%%\n"
    }
   }
  },
  {
   "cell_type": "markdown",
   "source": [
    "### Sequential colors \n",
    "\n",
    "Sequential colors are usually chosen for continuous variables. The sequential colors here revolve around the following three colors:"
   ],
   "metadata": {
    "collapsed": false,
    "pycharm": {
     "name": "#%% md\n"
    }
   }
  },
  {
   "cell_type": "code",
   "execution_count": null,
   "outputs": [],
   "source": [
    "plot_palette(fybdthemes.discrete_sequential_colors())"
   ],
   "metadata": {
    "collapsed": false,
    "pycharm": {
     "name": "#%%\n"
    }
   }
  },
  {
   "cell_type": "markdown",
   "source": [
    "In the visualization above we use three discrete colors, but you can also choose more:"
   ],
   "metadata": {
    "collapsed": false,
    "pycharm": {
     "name": "#%% md\n"
    }
   }
  },
  {
   "cell_type": "code",
   "execution_count": null,
   "outputs": [],
   "source": [
    "plot_palette(fybdthemes.discrete_sequential_colors(10))"
   ],
   "metadata": {
    "collapsed": false,
    "pycharm": {
     "name": "#%%\n"
    }
   }
  },
  {
   "cell_type": "code",
   "execution_count": null,
   "outputs": [],
   "source": [
    "plot_palette(fybdthemes.discrete_sequential_colors(10, True))"
   ],
   "metadata": {
    "collapsed": false,
    "pycharm": {
     "name": "#%%\n"
    }
   }
  },
  {
   "cell_type": "markdown",
   "source": [
    "Usually for continuous variables, we want a continous scale though:"
   ],
   "metadata": {
    "collapsed": false,
    "pycharm": {
     "name": "#%% md\n"
    }
   }
  },
  {
   "cell_type": "code",
   "execution_count": null,
   "outputs": [],
   "source": [
    "plot_palette(fybdthemes.continuous_sequential_colors())"
   ],
   "metadata": {
    "collapsed": false,
    "pycharm": {
     "name": "#%%\n"
    }
   }
  },
  {
   "cell_type": "markdown",
   "source": [
    "In a plot, we use the color scheme like this:"
   ],
   "metadata": {
    "collapsed": false,
    "pycharm": {
     "name": "#%% md\n"
    }
   }
  },
  {
   "cell_type": "code",
   "execution_count": null,
   "outputs": [],
   "source": [
    "_, ax = plt.subplots(figsize=(8, 4))\n",
    "sns.scatterplot(\n",
    "    x=\"carat\", y=\"price\",\n",
    "    hue=\"price\",\n",
    "    palette=fybdthemes.continuous_sequential_colors(),\n",
    "    data=diamonds, ax=ax,\n",
    "    marker=\"+\"\n",
    ")\n",
    "ax.set_xlabel(r'$x$')\n",
    "ax.set_ylabel(r'$f(x)$')\n",
    "ax.legend(title=\"lines\", bbox_to_anchor=(1.2, 0.5))\n",
    "plt.show()"
   ],
   "metadata": {
    "collapsed": false,
    "pycharm": {
     "name": "#%%\n"
    }
   }
  },
  {
   "cell_type": "markdown",
   "source": [
    "### Diverging colors \n",
    "\n",
    "Diverging colors are usually chosen for continuous variables that can deviate in one of two directions relative to some midpoint. The diverging colors here revolve around the following four colors:"
   ],
   "metadata": {
    "collapsed": false,
    "pycharm": {
     "name": "#%% md\n"
    }
   }
  },
  {
   "cell_type": "code",
   "execution_count": null,
   "outputs": [],
   "source": [
    "plot_palette(fybdthemes.discrete_diverging_colors())"
   ],
   "metadata": {
    "collapsed": false,
    "pycharm": {
     "name": "#%%\n"
    }
   }
  },
  {
   "cell_type": "markdown",
   "source": [
    "As above, you can specify more colors, too, and reverse them:"
   ],
   "metadata": {
    "collapsed": false,
    "pycharm": {
     "name": "#%% md\n"
    }
   }
  },
  {
   "cell_type": "code",
   "execution_count": null,
   "outputs": [],
   "source": [
    "plot_palette(fybdthemes.discrete_diverging_colors(10, True))"
   ],
   "metadata": {
    "collapsed": false,
    "pycharm": {
     "name": "#%%\n"
    }
   }
  },
  {
   "cell_type": "markdown",
   "source": [
    "Since the visualized variable is usually continuous again, you want a continous scale again:"
   ],
   "metadata": {
    "collapsed": false,
    "pycharm": {
     "name": "#%% md\n"
    }
   }
  },
  {
   "cell_type": "code",
   "execution_count": null,
   "outputs": [],
   "source": [
    "plot_palette(fybdthemes.continuous_diverging_colors())"
   ],
   "metadata": {
    "collapsed": false,
    "pycharm": {
     "name": "#%%\n"
    }
   }
  },
  {
   "cell_type": "markdown",
   "source": [
    "For plotting, we use the palette as before. In this case the midpoint would be if a diamond has 3 carats."
   ],
   "metadata": {
    "collapsed": false,
    "pycharm": {
     "name": "#%% md\n"
    }
   }
  },
  {
   "cell_type": "code",
   "execution_count": null,
   "outputs": [],
   "source": [
    "_, ax = plt.subplots(figsize=(8, 4))\n",
    "sns.scatterplot(\n",
    "    x=\"carat\", y=\"price\",\n",
    "    hue=\"carat\",\n",
    "    palette=fybdthemes.continuous_diverging_colors(),\n",
    "    data=diamonds, ax=ax,\n",
    "    marker=\"+\"\n",
    ")\n",
    "ax.legend(title=\"lines\", bbox_to_anchor=(1.2, 0.5))\n",
    "ax.set_xlabel(r'$x$')\n",
    "ax.set_ylabel(r'$f(x)$')\n",
    "plt.show()"
   ],
   "metadata": {
    "collapsed": false,
    "pycharm": {
     "name": "#%%\n"
    }
   }
  },
  {
   "cell_type": "markdown",
   "source": [
    "### Qualitative colors \n",
    "\n",
    "Qualitative colors are usually chosen for categorical variables. The qualitative colors palette in this package has the following colors:"
   ],
   "metadata": {
    "collapsed": false,
    "pycharm": {
     "name": "#%% md\n"
    }
   }
  },
  {
   "cell_type": "code",
   "execution_count": null,
   "outputs": [],
   "source": [
    "plot_palette(fybdthemes.discrete_qualitative_colors())"
   ],
   "metadata": {
    "collapsed": false,
    "pycharm": {
     "name": "#%%\n"
    }
   }
  },
  {
   "cell_type": "code",
   "execution_count": null,
   "outputs": [],
   "source": [
    "def sqeuclidean_cdist(X):\n",
    "    X = X.reshape(-1, 1)    \n",
    "    X2 = np.sum(np.square(X), 1)    \n",
    "    dist = -2.0 * np.dot(X, np.transpose(X)) + (\n",
    "        np.reshape(X2, (-1, 1)) + np.reshape(X2, (1, -1))\n",
    "    )\n",
    "    return  np.exp(-0.5 * np.clip(dist, 0.0, np.inf))\n",
    "\n",
    "X = np.linspace(0, 10, 100)\n",
    "K = sqeuclidean_cdist(X)"
   ],
   "metadata": {
    "collapsed": false,
    "pycharm": {
     "name": "#%%\n"
    }
   }
  },
  {
   "cell_type": "markdown",
   "source": [
    "You can, for instance, use it like this:"
   ],
   "metadata": {
    "collapsed": false,
    "pycharm": {
     "name": "#%% md\n"
    }
   }
  },
  {
   "cell_type": "code",
   "execution_count": null,
   "outputs": [],
   "source": [
    "cols = fybdthemes.discrete_qualitative_colors()\n",
    "\n",
    "_, ax = plt.subplots(figsize=(8, 4))\n",
    "for i in range(5):\n",
    "    f = numpy.random.multivariate_normal(np.zeros(X.shape[0]), K) \n",
    "    plt.plot(X, f, color=cols[i], linewidth=2, label=i)\n",
    "ax.legend(title=\"lines\", bbox_to_anchor=(1.2, 0.5))\n",
    "ax.set_xlabel(r'$x$')\n",
    "ax.set_ylabel(r'$f(x)$')\n",
    "plt.show()"
   ],
   "metadata": {
    "collapsed": false,
    "pycharm": {
     "name": "#%%\n"
    }
   }
  },
  {
   "cell_type": "markdown",
   "source": [
    "If you need less colors, manually specificying the colors to avoid a too colorful figure is usually a good idea. For instance, for plots with three lines you could use these colors:"
   ],
   "metadata": {
    "collapsed": false,
    "pycharm": {
     "name": "#%% md\n"
    }
   }
  },
  {
   "cell_type": "code",
   "execution_count": null,
   "outputs": [],
   "source": [
    "plot_palette(np.array(cols)[[0, 1, 3]])"
   ],
   "metadata": {
    "collapsed": false,
    "pycharm": {
     "name": "#%%\n"
    }
   }
  },
  {
   "cell_type": "code",
   "execution_count": null,
   "outputs": [],
   "source": [
    "plot_palette(np.array(cols)[[0, 1, 4]])"
   ],
   "metadata": {
    "collapsed": false,
    "pycharm": {
     "name": "#%%\n"
    }
   }
  },
  {
   "cell_type": "markdown",
   "source": [
    "In that case we merely need to specify the indexes of the colors:"
   ],
   "metadata": {
    "collapsed": false,
    "pycharm": {
     "name": "#%% md\n"
    }
   }
  },
  {
   "cell_type": "code",
   "execution_count": null,
   "outputs": [],
   "source": [
    "idxs = 0, 1, 4\n",
    "_, ax = plt.subplots(figsize=(8, 4))\n",
    "for i in idxs:\n",
    "    f = numpy.random.multivariate_normal(np.zeros(X.shape[0]), K) \n",
    "    plt.plot(X, f, color=cols[i], linewidth=2, label=i)\n",
    "ax.legend(title=\"lines\", bbox_to_anchor=(1.2, 0.5))\n",
    "ax.set_xlabel(r'$x$')\n",
    "ax.set_ylabel(r'$f(x)$')\n",
    "plt.show()"
   ],
   "metadata": {
    "collapsed": false,
    "pycharm": {
     "name": "#%%\n"
    }
   }
  },
  {
   "cell_type": "markdown",
   "source": [
    "The palette has a maximum of 6 colors. I've chosen to use only 6, because humans are usually not good at congitively processing more then 4-5 colors in a plot, so 6 is a hard maximum. \n",
    "\n",
    "For qualitative variables with more than 6 levels, I usually prefer a light/transarent blue sequential scale, since one cannot distinguish the colors effectively any more anyways. Alternatively one can use a greyscale for the variables, and highlight some few with colors. "
   ],
   "metadata": {
    "collapsed": false,
    "pycharm": {
     "name": "#%% md\n"
    }
   }
  },
  {
   "cell_type": "markdown",
   "source": [
    "See the plot below as an example of a blue sequential scale. Note that in the plot below, we don't use a legend, cause we don't want to emphasize/highlight the separate lines, but rather show the general trend."
   ],
   "metadata": {
    "collapsed": false,
    "pycharm": {
     "name": "#%% md\n"
    }
   }
  },
  {
   "cell_type": "code",
   "execution_count": null,
   "outputs": [],
   "source": [
    "cols = fybdthemes.discrete_sequential_colors(5)\n",
    "\n",
    "_, ax = plt.subplots(figsize=(8, 4))\n",
    "for i in range(5):\n",
    "    f = numpy.random.multivariate_normal(np.zeros(X.shape[0]), K) \n",
    "    plt.plot(X, f, color=cols[i], linewidth=2, alpha=.65)\n",
    "ax.set_xlabel(r'$x$')\n",
    "ax.set_ylabel(r'$f(x)$')\n",
    "plt.show()"
   ],
   "metadata": {
    "collapsed": false,
    "pycharm": {
     "name": "#%%\n"
    }
   }
  },
  {
   "cell_type": "markdown",
   "source": [
    "A grey color scale to do the same as above can be created from seaborn:"
   ],
   "metadata": {
    "collapsed": false,
    "pycharm": {
     "name": "#%% md\n"
    }
   }
  },
  {
   "cell_type": "code",
   "execution_count": null,
   "outputs": [],
   "source": [
    "plot_palette(sns.color_palette(\"light:black\", as_cmap=False))"
   ],
   "metadata": {
    "collapsed": false,
    "pycharm": {
     "name": "#%%\n"
    }
   }
  },
  {
   "cell_type": "markdown",
   "source": [
    "If we want to put emphasis on a *single* line, we plot all *other* lines, for instance, in grey, and highlight the one we are interest in afterwards."
   ],
   "metadata": {
    "collapsed": false,
    "pycharm": {
     "name": "#%% md\n"
    }
   }
  },
  {
   "cell_type": "code",
   "execution_count": null,
   "outputs": [],
   "source": [
    "cols = sns.color_palette(\"light:black\", as_cmap=False, n_colors=9)\n",
    "highlight_color = fybdthemes.discrete_sequential_colors(3)[1]\n",
    "\n",
    "_, ax = plt.subplots(figsize=(8, 4))\n",
    "for i in range(9):\n",
    "    f = numpy.random.multivariate_normal(np.zeros(X.shape[0]), K) \n",
    "    plt.plot(X, f, color=cols[i], linewidth=1, alpha=.65)\n",
    "f = numpy.random.multivariate_normal(np.zeros(X.shape[0]), K) \n",
    "plt.plot(X, f, color=highlight_color, linewidth=2)\n",
    "ax.set_xlabel(r'$x$')\n",
    "ax.set_ylabel(r'$f(x)$')\n",
    "plt.show()"
   ],
   "metadata": {
    "collapsed": false,
    "pycharm": {
     "name": "#%%\n"
    }
   }
  },
  {
   "cell_type": "markdown",
   "source": [
    "## Author\n",
    "\n",
    "Simon Dirmeier <a href=\"mailto:sfyrbnd @ pm me\">sfyrbnd @ pm me</a>"
   ],
   "metadata": {
    "collapsed": false,
    "pycharm": {
     "name": "#%% md\n"
    }
   }
  }
 ],
 "metadata": {
  "kernelspec": {
   "display_name": "fybdthemes-dev",
   "language": "python",
   "name": "fybdthemes-dev"
  },
  "language_info": {
   "codemirror_mode": {
    "name": "ipython",
    "version": 3
   },
   "file_extension": ".py",
   "mimetype": "text/x-python",
   "name": "python",
   "nbconvert_exporter": "python",
   "pygments_lexer": "ipython3",
   "version": "3.9.13"
  }
 },
 "nbformat": 4,
 "nbformat_minor": 4
}